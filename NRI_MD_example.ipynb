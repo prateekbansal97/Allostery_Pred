{
 "cells": [
  {
   "cell_type": "code",
   "execution_count": 15,
   "id": "d0953549-a8c8-4bce-a195-bcfb5767fb82",
   "metadata": {},
   "outputs": [],
   "source": [
    "import numpy as np\n",
    "import torch\n",
    "import mdtraj as md\n",
    "import pickle\n",
    "import glob\n",
    "from natsort import natsorted\n",
    "import os\n",
    "import subprocess\n",
    "from tqdm.notebook import tqdm"
   ]
  },
  {
   "cell_type": "code",
   "execution_count": 2,
   "id": "de5a8d85-43c1-46ce-b02b-063071bd0ae9",
   "metadata": {},
   "outputs": [],
   "source": [
    "group_list = natsorted(glob.glob('./data/groups/*.txt'))\n",
    "continued_groups = {f.replace('_continued.txt', '') for f in group_list if '_continued' in f}\n",
    "final_group_list = [\n",
    "    f for f in group_list\n",
    "    if '_continued' in f or f.replace('.txt', '') not in continued_groups\n",
    "]\n",
    "\n",
    "with open('./data/xtcs_list', 'r') as g:\n",
    "    xtcslist = g.readlines()\n",
    "\n",
    "xtcslist = [j.strip() for j in xtcslist]\n",
    "\n",
    "with open('./data/strip_parms_list', 'r') as g:\n",
    "    stripparms = g.readlines()\n",
    "\n",
    "stripparms = [j.strip() for j in stripparms]\n",
    "def gen_parm_traj_dict():\n",
    "    parm_traj_dict = {}   \n",
    "    for group in final_group_list:\n",
    "        with open(group, 'r') as f:\n",
    "            lines = f.readlines()\n",
    "            for line in lines:\n",
    "                system, projno, run = line.strip().split(',')\n",
    "                trajs = [j for j in xtcslist if projno in j and f'run{run}' in j]\n",
    "                if trajs:\n",
    "                    parm = [j for j in stripparms if system in j]\n",
    "                    parm_traj_dict[system] = {'trajs':trajs, 'parm':parm[0]}\n",
    "    pickle.dump(parm_traj_dict, open('./data/parm_traj_dict.pkl','wb'))\n",
    "\n",
    "# gen_parm_traj_dict()"
   ]
  },
  {
   "cell_type": "code",
   "execution_count": null,
   "id": "4bbf376b-763e-4f2f-9b7e-e73997c0a3f7",
   "metadata": {},
   "outputs": [],
   "source": []
  },
  {
   "cell_type": "code",
   "execution_count": null,
   "id": "b387e625-a205-4f2f-aa2d-ffab1b713498",
   "metadata": {},
   "outputs": [],
   "source": []
  },
  {
   "cell_type": "code",
   "execution_count": null,
   "id": "ef7dbaae-c59e-4218-acba-671b8b6fae65",
   "metadata": {},
   "outputs": [],
   "source": []
  },
  {
   "cell_type": "code",
   "execution_count": 3,
   "id": "4ee38293-7947-45d9-a3ae-033b80e78fa3",
   "metadata": {},
   "outputs": [],
   "source": [
    "#Hyperparameters\n",
    "\n",
    "maxlen = 8000\n",
    "timestep = 64\n",
    "windows = {'train':[0,int(timestep*0.8)],\n",
    "            'valid':[int(timestep*0.8), int(timestep*0.9)+1],\n",
    "            'test':[int(timestep*0.9)+1, int(timestep)-1] \n",
    "          }\n",
    "n_dims = 6 #3 positions, 3 velocities"
   ]
  },
  {
   "cell_type": "code",
   "execution_count": 4,
   "id": "e30cba96-ddee-4bd1-b251-e15554d9d7d6",
   "metadata": {},
   "outputs": [],
   "source": [
    "# input_files = natsorted(glob.glob('./data/pdb/p12000_run0*.xtc'))\n",
    "# n_trajs = len(input_file)"
   ]
  },
  {
   "cell_type": "code",
   "execution_count": 5,
   "id": "ce0147b8-9410-4517-8657-cc74ed5880d9",
   "metadata": {},
   "outputs": [
    {
     "data": {
      "text/plain": [
       "{'train': [0, 51], 'valid': [51, 58], 'test': [58, 63]}"
      ]
     },
     "execution_count": 5,
     "metadata": {},
     "output_type": "execute_result"
    }
   ],
   "source": [
    "windows"
   ]
  },
  {
   "cell_type": "code",
   "execution_count": 6,
   "id": "fd05e4b3-a51f-45a2-a073-dd5fc0dfe57c",
   "metadata": {},
   "outputs": [],
   "source": [
    "def generate_train_valid_test(input_files, parm, sysname):\n",
    "    for trajno, traj in enumerate(input_files):\n",
    "        trajname = traj.split('/')[-1].split('.')[0]\n",
    "        # print(f'Using {traj} as input...')\n",
    "        pdb = md.load(traj, top=parm)\n",
    "        CA = pdb.topology.select('name CA')\n",
    "        pdb = pdb.atom_slice(CA)\n",
    "        n_residues = len(CA)\n",
    "        n_frames_per_window = pdb.n_frames // timestep\n",
    "        if pdb.n_frames % timestep != 0:\n",
    "            print(sysname, pdb.n_frames)\n",
    "            closest_multiple_to_timestep_less_than_total_length = (pdb.n_frames // timestep)*timestep\n",
    "            pdb = pdb[:closest_multiple_to_timestep_less_than_total_length]\n",
    "        for mode, window in windows.items():\n",
    "            # print(f'Generating dataset for {mode}ing...')\n",
    "            start, end = window\n",
    "            features = np.zeros((end-start, n_frames_per_window, n_residues, n_dims), dtype=np.float64)\n",
    "            window_start = start\n",
    "            for nwindow, windowtraj in enumerate(range(start, end)):\n",
    "                frames_to_choose_for_this_window = np.arange(windowtraj, pdb.n_frames, timestep)\n",
    "                # if pdb.n_frames < 8000:\n",
    "                # print(len(frames_to_choose_for_this_window))\n",
    "                # print(frames_to_choose_for_this_window)\n",
    "                vel_frames = frames_to_choose_for_this_window + 1\n",
    "                coords = pdb[frames_to_choose_for_this_window].xyz*10\n",
    "                # print(coords.shape, n_frames_per_window)\n",
    "                vels = pdb[vel_frames].xyz*10 - coords\n",
    "                features[nwindow, :, :, :3] = coords\n",
    "                features[nwindow, :, :, 3:] = vels\n",
    "            pickle.dump(features, open(f'/home/prateek/storage/ML_Allostery/NRI-MD/data/processed_data/{sysname}_{trajname}_{mode}.pkl','wb'))"
   ]
  },
  {
   "cell_type": "code",
   "execution_count": 14,
   "id": "7a706eda-c152-463c-9fc0-185ddbfa1b2a",
   "metadata": {},
   "outputs": [
    {
     "ename": "TypeError",
     "evalue": "'module' object is not callable. Did you mean: 'tqdm.tqdm(...)'?",
     "output_type": "error",
     "traceback": [
      "\u001b[0;31m---------------------------------------------------------------------------\u001b[0m",
      "\u001b[0;31mTypeError\u001b[0m                                 Traceback (most recent call last)",
      "Cell \u001b[0;32mIn[14], line 10\u001b[0m\n\u001b[1;32m      8\u001b[0m                 \u001b[38;5;28;01mif\u001b[39;00m \u001b[38;5;129;01mnot\u001b[39;00m os\u001b[38;5;241m.\u001b[39mpath\u001b[38;5;241m.\u001b[39mexists(\u001b[38;5;124mf\u001b[39m\u001b[38;5;124m'\u001b[39m\u001b[38;5;124m/home/prateek/storage/ML_Allostery/NRI-MD/data/processed_data/\u001b[39m\u001b[38;5;132;01m{\u001b[39;00msystem_name\u001b[38;5;132;01m}\u001b[39;00m\u001b[38;5;124m_\u001b[39m\u001b[38;5;132;01m{\u001b[39;00mtrajname\u001b[38;5;132;01m}\u001b[39;00m\u001b[38;5;124m_\u001b[39m\u001b[38;5;132;01m{\u001b[39;00mmode\u001b[38;5;132;01m}\u001b[39;00m\u001b[38;5;124m.pkl\u001b[39m\u001b[38;5;124m'\u001b[39m):\n\u001b[1;32m      9\u001b[0m                     generate_train_valid_test([trajs[trajno]], parm, system_name)\n\u001b[0;32m---> 10\u001b[0m gen_dataset_for_all_systems()\n",
      "Cell \u001b[0;32mIn[14], line 6\u001b[0m, in \u001b[0;36mgen_dataset_for_all_systems\u001b[0;34m()\u001b[0m\n\u001b[1;32m      4\u001b[0m trajs, parm \u001b[38;5;241m=\u001b[39m trajparm[\u001b[38;5;124m'\u001b[39m\u001b[38;5;124mtrajs\u001b[39m\u001b[38;5;124m'\u001b[39m], trajparm[\u001b[38;5;124m'\u001b[39m\u001b[38;5;124mparm\u001b[39m\u001b[38;5;124m'\u001b[39m]\n\u001b[1;32m      5\u001b[0m trajnames \u001b[38;5;241m=\u001b[39m [traj\u001b[38;5;241m.\u001b[39msplit(\u001b[38;5;124m'\u001b[39m\u001b[38;5;124m/\u001b[39m\u001b[38;5;124m'\u001b[39m)[\u001b[38;5;241m-\u001b[39m\u001b[38;5;241m1\u001b[39m]\u001b[38;5;241m.\u001b[39msplit(\u001b[38;5;124m'\u001b[39m\u001b[38;5;124m.\u001b[39m\u001b[38;5;124m'\u001b[39m)[\u001b[38;5;241m0\u001b[39m] \u001b[38;5;28;01mfor\u001b[39;00m traj \u001b[38;5;129;01min\u001b[39;00m trajs]\n\u001b[0;32m----> 6\u001b[0m \u001b[38;5;28;01mfor\u001b[39;00m trajno, trajname \u001b[38;5;129;01min\u001b[39;00m tqdm(\u001b[38;5;28menumerate\u001b[39m(trajnames), total\u001b[38;5;241m=\u001b[39m\u001b[38;5;28mlen\u001b[39m(trajnames), desc\u001b[38;5;241m=\u001b[39m\u001b[38;5;124mf\u001b[39m\u001b[38;5;124m\"\u001b[39m\u001b[38;5;124mProcessing \u001b[39m\u001b[38;5;132;01m{\u001b[39;00msystem_name\u001b[38;5;132;01m}\u001b[39;00m\u001b[38;5;124m\"\u001b[39m):\n\u001b[1;32m      7\u001b[0m     \u001b[38;5;28;01mfor\u001b[39;00m mode, window \u001b[38;5;129;01min\u001b[39;00m windows\u001b[38;5;241m.\u001b[39mitems():\n\u001b[1;32m      8\u001b[0m         \u001b[38;5;28;01mif\u001b[39;00m \u001b[38;5;129;01mnot\u001b[39;00m os\u001b[38;5;241m.\u001b[39mpath\u001b[38;5;241m.\u001b[39mexists(\u001b[38;5;124mf\u001b[39m\u001b[38;5;124m'\u001b[39m\u001b[38;5;124m/home/prateek/storage/ML_Allostery/NRI-MD/data/processed_data/\u001b[39m\u001b[38;5;132;01m{\u001b[39;00msystem_name\u001b[38;5;132;01m}\u001b[39;00m\u001b[38;5;124m_\u001b[39m\u001b[38;5;132;01m{\u001b[39;00mtrajname\u001b[38;5;132;01m}\u001b[39;00m\u001b[38;5;124m_\u001b[39m\u001b[38;5;132;01m{\u001b[39;00mmode\u001b[38;5;132;01m}\u001b[39;00m\u001b[38;5;124m.pkl\u001b[39m\u001b[38;5;124m'\u001b[39m):\n",
      "\u001b[0;31mTypeError\u001b[0m: 'module' object is not callable. Did you mean: 'tqdm.tqdm(...)'?"
     ]
    }
   ],
   "source": [
    "def gen_dataset_for_all_systems():\n",
    "    parm_traj_dict = pickle.load(open('./data/parm_traj_dict.pkl','rb'))\n",
    "    for system_name, trajparm in parm_traj_dict.items():\n",
    "        trajs, parm = trajparm['trajs'], trajparm['parm']\n",
    "        trajnames = [traj.split('/')[-1].split('.')[0] for traj in trajs]\n",
    "        for trajno, trajname in tqdm(enumerate(trajnames), total=len(trajnames), desc=f\"Processing {system_name}\"):\n",
    "            for mode, window in windows.items():\n",
    "                if not os.path.exists(f'/home/prateek/storage/ML_Allostery/NRI-MD/data/processed_data/{system_name}_{trajname}_{mode}.pkl'):\n",
    "                    generate_train_valid_test([trajs[trajno]], parm, system_name)\n",
    "gen_dataset_for_all_systems()"
   ]
  },
  {
   "cell_type": "code",
   "execution_count": null,
   "id": "ce5cd528-01d9-4e81-b3d8-986a8f0dc3e6",
   "metadata": {},
   "outputs": [],
   "source": [
    "# for mode in windows.keys():\n",
    "#     mode2 = f'_{mode}' if mode != 'train' else ''\n",
    "#     p = pickle.load(open(f'./data/pdb/ca_1.pdb_{mode}.pkl','rb'))\n",
    "#     q = np.load(f'./data/features{mode2}.npy')\n",
    "#     p_2 = np.transpose(p, (0, 1, 3, 2))\n",
    "#     print(p_2.shape, q.shape, p_2.shape == q.shape)"
   ]
  },
  {
   "cell_type": "code",
   "execution_count": 211,
   "id": "2e9fde15-1768-43f4-bd45-81df394235b8",
   "metadata": {},
   "outputs": [
    {
     "data": {
      "text/plain": [
       "2.050092764378479"
      ]
     },
     "execution_count": 211,
     "metadata": {},
     "output_type": "execute_result"
    }
   ],
   "source": [
    "atol=1e-5\n",
    "np.where(np.isclose(p_2, q, atol=atol))[0].shape[0]/(np.where(np.isclose(p_2, q, atol=atol))[0].shape[0] + np.where(np.logical_not(np.isclose(p_2, q, atol=atol)))[0].shape[0])*100"
   ]
  },
  {
   "cell_type": "code",
   "execution_count": 214,
   "id": "db1a4dff-cac6-4c4b-a276-bf8c0e56e250",
   "metadata": {},
   "outputs": [
    {
     "data": {
      "text/plain": [
       "'/home/prateek/storage/ML_Allostery/NRI-MD'"
      ]
     },
     "execution_count": 214,
     "metadata": {},
     "output_type": "execute_result"
    }
   ],
   "source": [
    "pwd"
   ]
  },
  {
   "cell_type": "code",
   "execution_count": 150,
   "id": "c3dca9fc-a5e8-4392-8586-e68d01b7c3b8",
   "metadata": {},
   "outputs": [],
   "source": [
    "# a"
   ]
  },
  {
   "cell_type": "code",
   "execution_count": 151,
   "id": "7a058efa-cf8b-4f34-8806-aef42bd8943c",
   "metadata": {},
   "outputs": [],
   "source": [
    "# np.where(coords == 0)"
   ]
  },
  {
   "cell_type": "code",
   "execution_count": 152,
   "id": "4ba67e99-97a9-4e57-bb9c-c9f76db8bfe7",
   "metadata": {},
   "outputs": [],
   "source": [
    "# 41+12*60"
   ]
  },
  {
   "cell_type": "code",
   "execution_count": 230,
   "id": "539c4501-2e5c-46c5-95f7-75cb657a8d01",
   "metadata": {},
   "outputs": [
    {
     "name": "stdout",
     "output_type": "stream",
     "text": [
      "./data/groups/group_50_60.txt\n",
      "./data/groups/group_60_70.txt\n",
      "./data/groups/group_70_80.txt\n",
      "./data/groups/group_80_90_continued.txt\n",
      "./data/groups/group_90_100_continued.txt\n",
      "./data/groups/group_100_110.txt\n",
      "./data/groups/group_110_120_continued.txt\n",
      "./data/groups/group_120_130_continued.txt\n",
      "./data/groups/group_130_140_continued.txt\n",
      "./data/groups/group_140_150_continued.txt\n",
      "./data/groups/group_150_160_continued.txt\n",
      "./data/groups/group_170_180_continued.txt\n",
      "./data/groups/group_180_190_continued.txt\n",
      "./data/groups/group_190_200_continued.txt\n",
      "./data/groups/group_200_210_continued.txt\n",
      "./data/groups/group_210_220_continued.txt\n",
      "./data/groups/group_220_230_continued.txt\n",
      "./data/groups/group_320_330_continued.txt\n",
      "./data/groups/group_350_360_continued.txt\n"
     ]
    }
   ],
   "source": [
    "file_list = [\n",
    "    './data/groups/group_50_60.txt',\n",
    "    './data/groups/group_60_70.txt',\n",
    "    './data/groups/group_70_80.txt',\n",
    "    './data/groups/group_80_90.txt',\n",
    "    './data/groups/group_80_90_continued.txt',\n",
    "    './data/groups/group_90_100.txt',\n",
    "    './data/groups/group_90_100_continued.txt',\n",
    "    './data/groups/group_100_110.txt',\n",
    "    './data/groups/group_110_120.txt',\n",
    "    './data/groups/group_110_120_continued.txt',\n",
    "    './data/groups/group_120_130.txt',\n",
    "    './data/groups/group_120_130_continued.txt',\n",
    "    './data/groups/group_130_140.txt',\n",
    "    './data/groups/group_130_140_continued.txt',\n",
    "    './data/groups/group_140_150.txt',\n",
    "    './data/groups/group_140_150_continued.txt',\n",
    "    './data/groups/group_150_160_continued.txt',\n",
    "    './data/groups/group_170_180_continued.txt',\n",
    "    './data/groups/group_180_190_continued.txt',\n",
    "    './data/groups/group_190_200_continued.txt',\n",
    "    './data/groups/group_200_210_continued.txt',\n",
    "    './data/groups/group_210_220_continued.txt',\n",
    "    './data/groups/group_220_230_continued.txt',\n",
    "    './data/groups/group_320_330_continued.txt',\n",
    "    './data/groups/group_350_360_continued.txt'\n",
    "]\n",
    "\n",
    "\n",
    "continued_groups = {f.replace('_continued.txt', '') for f in file_list if '_continued' in f}\n",
    "\n",
    "# Create the filtered list\n",
    "filtered_list = [\n",
    "    f for f in file_list\n",
    "    if '_continued' in f or f.replace('.txt', '') not in continued_groups\n",
    "]\n",
    "\n",
    "# Display the result\n",
    "for file in filtered_list:\n",
    "    print(file)\n"
   ]
  },
  {
   "cell_type": "code",
   "execution_count": 44,
   "id": "9ea166b0-4c61-4b26-b973-7f1e3e0467a4",
   "metadata": {},
   "outputs": [
    {
     "data": {
      "text/plain": [
       "125"
      ]
     },
     "execution_count": 44,
     "metadata": {},
     "output_type": "execute_result"
    }
   ],
   "source": [
    "8000 // 64"
   ]
  },
  {
   "cell_type": "code",
   "execution_count": null,
   "id": "bfb766be-dce4-4096-9591-2c1ee74d7ed9",
   "metadata": {},
   "outputs": [],
   "source": []
  }
 ],
 "metadata": {
  "kernelspec": {
   "display_name": "pt",
   "language": "python",
   "name": "pt"
  },
  "language_info": {
   "codemirror_mode": {
    "name": "ipython",
    "version": 3
   },
   "file_extension": ".py",
   "mimetype": "text/x-python",
   "name": "python",
   "nbconvert_exporter": "python",
   "pygments_lexer": "ipython3",
   "version": "3.12.2"
  }
 },
 "nbformat": 4,
 "nbformat_minor": 5
}
